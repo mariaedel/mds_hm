{
 "metadata": {
  "language_info": {
   "codemirror_mode": {
    "name": "ipython",
    "version": 3
   },
   "file_extension": ".py",
   "mimetype": "text/x-python",
   "name": "python",
   "nbconvert_exporter": "python",
   "pygments_lexer": "ipython3",
   "version": "3.8.6"
  },
  "orig_nbformat": 4,
  "kernelspec": {
   "name": "python3",
   "display_name": "Python 3.8.6 64-bit"
  },
  "interpreter": {
   "hash": "670ac0503b5e7d8d2cc976e7c90ae1069210f4a5d460c715c7316febc0806514"
  }
 },
 "nbformat": 4,
 "nbformat_minor": 2,
 "cells": [
  {
   "cell_type": "code",
   "execution_count": 1,
   "metadata": {},
   "outputs": [],
   "source": [
    "import numpy as np\n",
    "from scipy.optimize import approx_fprime"
   ]
  },
  {
   "source": [
    "## Уровень 0"
   ],
   "cell_type": "markdown",
   "metadata": {}
  },
  {
   "cell_type": "code",
   "execution_count": 30,
   "metadata": {},
   "outputs": [],
   "source": [
    "def f(x):\n",
    "    return (2*x[0]**2*x[1]**3 + 1/x[0] + x[1]**2*x[0] + 7)\n",
    "\n",
    "def f1(x):\n",
    "    return (x[0]**2*x[1] - np.sin(x[0]*x[1]) + np.cos(x[0]**2) + 6*x[1])"
   ]
  },
  {
   "cell_type": "code",
   "execution_count": 31,
   "metadata": {},
   "outputs": [
    {
     "output_type": "stream",
     "name": "stdout",
     "text": [
      "Градиент функции f в точке (1, 2): [35.00000024 28.00000024]\n"
     ]
    }
   ],
   "source": [
    "eps = np.sqrt(np.finfo(float).eps)\n",
    "print(f'Градиент функции f в точке (1, 2): {approx_fprime([1, 2], f, [eps, eps])}')"
   ]
  },
  {
   "cell_type": "code",
   "execution_count": 46,
   "metadata": {},
   "outputs": [],
   "source": [
    "from sympy import symbols, diff, sin, cos"
   ]
  },
  {
   "cell_type": "code",
   "execution_count": 48,
   "metadata": {},
   "outputs": [],
   "source": [
    "x, y = symbols('x y', real=True)\n",
    "g = 2*x**2*y**3 + 1/x + y**2*x + 7\n",
    "g1 = x**2*y - sin(x*y) + cos(x**2) + 6*y"
   ]
  },
  {
   "cell_type": "code",
   "execution_count": 40,
   "metadata": {},
   "outputs": [
    {
     "output_type": "stream",
     "name": "stdout",
     "text": [
      "Частная производная g по x:\n"
     ]
    },
    {
     "output_type": "execute_result",
     "data": {
      "text/plain": [
       "4*x*y**3 + y**2 - 1/x**2"
      ],
      "text/latex": "$\\displaystyle 4 x y^{3} + y^{2} - \\frac{1}{x^{2}}$"
     },
     "metadata": {},
     "execution_count": 40
    }
   ],
   "source": [
    "print('Частная производная g по x:')\n",
    "diff(g, x)"
   ]
  },
  {
   "cell_type": "code",
   "execution_count": 38,
   "metadata": {},
   "outputs": [
    {
     "output_type": "stream",
     "name": "stdout",
     "text": [
      "Частная производная g по y:\n"
     ]
    },
    {
     "output_type": "execute_result",
     "data": {
      "text/plain": [
       "6*x**2*y**2 + 2*x*y"
      ],
      "text/latex": "$\\displaystyle 6 x^{2} y^{2} + 2 x y$"
     },
     "metadata": {},
     "execution_count": 38
    }
   ],
   "source": [
    "print('Частная производная g по y:')\n",
    "diff(g, y)"
   ]
  },
  {
   "cell_type": "code",
   "execution_count": 49,
   "metadata": {},
   "outputs": [
    {
     "output_type": "stream",
     "name": "stdout",
     "text": [
      "Частная производная g1 по x:\n"
     ]
    },
    {
     "output_type": "execute_result",
     "data": {
      "text/plain": [
       "2*x*y - 2*x*sin(x**2) - y*cos(x*y)"
      ],
      "text/latex": "$\\displaystyle 2 x y - 2 x \\sin{\\left(x^{2} \\right)} - y \\cos{\\left(x y \\right)}$"
     },
     "metadata": {},
     "execution_count": 49
    }
   ],
   "source": [
    "print('Частная производная g1 по x:')\n",
    "diff(g1, x)"
   ]
  },
  {
   "cell_type": "code",
   "execution_count": 50,
   "metadata": {},
   "outputs": [
    {
     "output_type": "stream",
     "name": "stdout",
     "text": [
      "Частная производная g1 по y:\n"
     ]
    },
    {
     "output_type": "execute_result",
     "data": {
      "text/plain": [
       "x**2 - x*cos(x*y) + 6"
      ],
      "text/latex": "$\\displaystyle x^{2} - x \\cos{\\left(x y \\right)} + 6$"
     },
     "metadata": {},
     "execution_count": 50
    }
   ],
   "source": [
    "print('Частная производная g1 по y:')\n",
    "diff(g1, y)"
   ]
  },
  {
   "source": [
    "## Уровень 1"
   ],
   "cell_type": "markdown",
   "metadata": {}
  },
  {
   "cell_type": "code",
   "execution_count": 94,
   "metadata": {},
   "outputs": [],
   "source": [
    "def f(x):\n",
    "    return (x[0]**2) + (x[1]**2)"
   ]
  },
  {
   "cell_type": "code",
   "execution_count": 95,
   "metadata": {},
   "outputs": [],
   "source": [
    "x = np.array([100, 200])\n",
    "learning_rate = 0.1"
   ]
  },
  {
   "cell_type": "code",
   "execution_count": 96,
   "metadata": {},
   "outputs": [
    {
     "output_type": "execute_result",
     "data": {
      "text/plain": [
       "80"
      ]
     },
     "metadata": {},
     "execution_count": 96
    }
   ],
   "source": [
    "e = 10**(-6)\n",
    "delta = 1\n",
    "k = 0\n",
    "while delta > e:\n",
    "    grad = approx_fprime(x, f, [eps, eps])\n",
    "    x1 = x - learning_rate * grad\n",
    "    delta = np.linalg.norm((x1 - x))\n",
    "    x = x1\n",
    "    k += 1\n",
    "k"
   ]
  },
  {
   "cell_type": "code",
   "execution_count": 97,
   "metadata": {},
   "outputs": [
    {
     "output_type": "stream",
     "name": "stdout",
     "text": [
      "Минимум достигается в:  [1.75939665e-06 3.52624365e-06]\nЗначение функции в минимуме:  1.5529870881993645e-11\n"
     ]
    }
   ],
   "source": [
    "print(\"Минимум достигается в: \", x)\n",
    "print(\"Значение функции в минимуме: \", f(x))"
   ]
  }
 ]
}