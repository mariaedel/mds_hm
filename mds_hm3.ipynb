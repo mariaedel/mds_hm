{
 "metadata": {
  "language_info": {
   "codemirror_mode": {
    "name": "ipython",
    "version": 3
   },
   "file_extension": ".py",
   "mimetype": "text/x-python",
   "name": "python",
   "nbconvert_exporter": "python",
   "pygments_lexer": "ipython3",
   "version": "3.8.6"
  },
  "orig_nbformat": 4,
  "kernelspec": {
   "name": "python3",
   "display_name": "Python 3.8.6 64-bit"
  },
  "interpreter": {
   "hash": "670ac0503b5e7d8d2cc976e7c90ae1069210f4a5d460c715c7316febc0806514"
  }
 },
 "nbformat": 4,
 "nbformat_minor": 2,
 "cells": [
  {
   "cell_type": "code",
   "execution_count": 1,
   "metadata": {},
   "outputs": [],
   "source": [
    "import numpy as np"
   ]
  },
  {
   "source": [
    "## Уровень 0"
   ],
   "cell_type": "markdown",
   "metadata": {}
  },
  {
   "source": [
    "### a) Диагональная, ортогональная, но не единичная(!)"
   ],
   "cell_type": "markdown",
   "metadata": {}
  },
  {
   "cell_type": "code",
   "execution_count": 4,
   "metadata": {},
   "outputs": [
    {
     "output_type": "execute_result",
     "data": {
      "text/plain": [
       "array([[-0.41614684, -0.90929743],\n",
       "       [ 0.90929743, -0.41614684]])"
      ]
     },
     "metadata": {},
     "execution_count": 4
    }
   ],
   "source": [
    "np.array([[np.cos(2), -np.sin(2)], [np.sin(2), np.cos(2)]])"
   ]
  },
  {
   "source": [
    "### b) Верхнетреугольная, ортогональная"
   ],
   "cell_type": "markdown",
   "metadata": {}
  },
  {
   "cell_type": "code",
   "execution_count": 30,
   "metadata": {},
   "outputs": [
    {
     "output_type": "execute_result",
     "data": {
      "text/plain": [
       "array([[10,  0],\n",
       "       [ 0,  0]])"
      ]
     },
     "metadata": {},
     "execution_count": 30
    }
   ],
   "source": [
    "A = np.array([[3, 1], [0, 0]])\n",
    "A @ A.T"
   ]
  },
  {
   "source": [
    "### c) Нижнетреугольная, ортогональная"
   ],
   "cell_type": "markdown",
   "metadata": {}
  },
  {
   "cell_type": "code",
   "execution_count": null,
   "metadata": {},
   "outputs": [],
   "source": [
    "A = np.array([])"
   ]
  },
  {
   "source": [
    "### d) Матрица, у которой определитель = 1, и все элементы не равны 0"
   ],
   "cell_type": "markdown",
   "metadata": {}
  },
  {
   "cell_type": "code",
   "execution_count": 38,
   "metadata": {},
   "outputs": [
    {
     "output_type": "execute_result",
     "data": {
      "text/plain": [
       "0.9999999999999991"
      ]
     },
     "metadata": {},
     "execution_count": 38
    }
   ],
   "source": [
    "A = np.array([[2, 3], [3, 5]])\n",
    "np.linalg.det(A)"
   ]
  },
  {
   "cell_type": "code",
   "execution_count": 67,
   "metadata": {},
   "outputs": [
    {
     "output_type": "stream",
     "name": "stdout",
     "text": [
      "Собственные числа матрицы: -0.2360679774997897, 4.23606797749979,\nСобственные векторы матрицы: [-0.85065081  0.52573111], [0.52573111 0.85065081]\n"
     ]
    }
   ],
   "source": [
    "m = np.array([[1, 2], [2, 3]])\n",
    "l, v = np.linalg.eigh(m)\n",
    "\n",
    "print(f'Собственные числа матрицы: {l[0]}, {l[1]},\\nСобственные векторы матрицы: {v[0]}, {v[1]}')"
   ]
  },
  {
   "source": [
    "## Уровень 1"
   ],
   "cell_type": "markdown",
   "metadata": {}
  },
  {
   "cell_type": "code",
   "execution_count": 62,
   "metadata": {},
   "outputs": [],
   "source": [
    "m = np.array([[1, 2], [2, 3]])"
   ]
  },
  {
   "cell_type": "code",
   "execution_count": 66,
   "metadata": {},
   "outputs": [
    {
     "output_type": "execute_result",
     "data": {
      "text/plain": [
       "array([[-0.85065081,  0.52573111],\n",
       "       [ 0.52573111,  0.85065081]])"
      ]
     },
     "metadata": {},
     "execution_count": 66
    }
   ],
   "source": []
  }
 ]
}